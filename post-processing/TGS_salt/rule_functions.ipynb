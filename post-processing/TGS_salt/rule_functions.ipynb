{
 "cells": [
  {
   "cell_type": "code",
   "execution_count": null,
   "metadata": {},
   "outputs": [],
   "source": [
    "from post_processing import *\n",
    "from const import ROOT\n",
    "from const import *"
   ]
  },
  {
   "cell_type": "code",
   "execution_count": null,
   "metadata": {},
   "outputs": [],
   "source": [
    "ROOT='/Users/alexanderliao/data/'\n",
    "name='3975043a11.png'\n",
    "mask = Image.open(ROOT+\"train/masks/\"+name).convert('LA') \n",
    "arr= np.array(mask)[:,:,0]\n",
    "is_vertical(arr)"
   ]
  },
  {
   "cell_type": "code",
   "execution_count": null,
   "metadata": {},
   "outputs": [],
   "source": [
    "arr"
   ]
  },
  {
   "cell_type": "markdown",
   "metadata": {},
   "source": []
  },
  {
   "cell_type": "code",
   "execution_count": null,
   "metadata": {},
   "outputs": [],
   "source": [
    "def is_vertical(img):\n",
    "    diffs=[]\n",
    "    if img.sum()==0: return False\n",
    "    for i in range(101):\n",
    "        if img[i,:].sum()==0: return False\n",
    "        diffs.append(np.square(img[0,:]-img[i,:]).mean())\n",
    "    discrepancy=np.mean(np.array(diffs))\n",
    "    #print(discrepancy)\n",
    "    return discrepancy<3e-3"
   ]
  },
  {
   "cell_type": "code",
   "execution_count": null,
   "metadata": {},
   "outputs": [],
   "source": [
    "0<8e-5"
   ]
  },
  {
   "cell_type": "code",
   "execution_count": null,
   "metadata": {},
   "outputs": [],
   "source": [
    "bad_masks=['33dfce3a76.png',\n",
    " '3975043a11.png',\n",
    " '483b35d589.png',\n",
    " '49336bb17b.png',\n",
    " '62d30854d7.png',\n",
    " '6460ce2df7.png',\n",
    " '81fa3d59b8.png',\n",
    " '8367b54eac.png',\n",
    " '849881c690.png',\n",
    " '876e6423e6.png',\n",
    " '90720e8172.png',\n",
    " '919bc0e2ba.png',\n",
    " 'a266a2a9df.png',\n",
    " 'b63b23fdc9.png',\n",
    " 'bfa7ee102e.png',\n",
    " 'bfbb9b9149.png',\n",
    " 'c98dfd50ba.png',\n",
    " 'd0bbe4fd97.png',\n",
    " 'd4d2ed6bd2.png',\n",
    " '00950d1627.png',\n",
    " '06d21d76c4.png',\n",
    " '15d76f1672.png',\n",
    " '182bfc6862.png',\n",
    " '24522ec665.png',\n",
    " '2f746f8726.png',\n",
    " '4f5df40ab2.png',\n",
    " '50b3aef4c4.png',\n",
    " '52ac7bb4c1.png',\n",
    " '56f4bcc716.png',\n",
    " '58de316918.png',\n",
    " '7f0825a2f0.png',\n",
    " '87afd4b1ca.png',\n",
    " '9067effd34.png',\n",
    " '93a1541218.png',\n",
    " '99ee31b5bc.png',\n",
    " '9a4b15919d.png',\n",
    " 'b1be1fa682.png',\n",
    " 'b525824dfc.png',\n",
    " 'c27409a765.png',\n",
    " 'd9a52dc263.png',\n",
    " 'e12cd094a6.png',\n",
    " 'e73ed6e7f2.png',\n",
    " 'fb47e8e74e.png']"
   ]
  },
  {
   "cell_type": "code",
   "execution_count": null,
   "metadata": {},
   "outputs": [],
   "source": [
    "train_path = os.path.join(ROOT, 'train')\n",
    "train_file_list = glob.glob(os.path.join(train_path, 'images', '*.png'))\n",
    "train_file_list = [f.split('/')[-1].split('.')[0] for f in train_file_list]\n",
    "i=0\n",
    "vertical_list=[]\n",
    "for name in train_file_list:\n",
    "    mask = Image.open(ROOT+\"train/masks/\"+name+'.png').convert('LA') \n",
    "    arr= np.array(mask)[:,:,0]\n",
    "    if(is_vertical(arr)): \n",
    "        i=i+1\n",
    "        vertical_list.append(name+\".png\")\n",
    "i"
   ]
  },
  {
   "cell_type": "code",
   "execution_count": null,
   "metadata": {},
   "outputs": [],
   "source": [
    "def diff(first, second):\n",
    "        second = set(second)\n",
    "        return [item for item in first if item not in second]\n",
    "diff(vertical_list,bad_masks)\n",
    "#vertical_list.sort()==bad_masks.sort()"
   ]
  },
  {
   "cell_type": "code",
   "execution_count": null,
   "metadata": {},
   "outputs": [],
   "source": [
    "for name in bad_masks:\n",
    "    mask = Image.open(ROOT+\"train/masks/\"+name).convert('LA') \n",
    "    arr= np.array(mask)[:,:,0]\n",
    "    print(is_vertical(arr))\n"
   ]
  },
  {
   "cell_type": "code",
   "execution_count": null,
   "metadata": {},
   "outputs": [],
   "source": []
  }
 ],
 "metadata": {
  "kernelspec": {
   "display_name": "Python 3",
   "language": "python",
   "name": "python3"
  },
  "language_info": {
   "codemirror_mode": {
    "name": "ipython",
    "version": 3
   },
   "file_extension": ".py",
   "mimetype": "text/x-python",
   "name": "python",
   "nbconvert_exporter": "python",
   "pygments_lexer": "ipython3",
   "version": "3.6.5"
  }
 },
 "nbformat": 4,
 "nbformat_minor": 2
}
