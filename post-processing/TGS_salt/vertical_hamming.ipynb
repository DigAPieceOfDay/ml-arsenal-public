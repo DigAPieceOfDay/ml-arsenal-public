{
 "cells": [
  {
   "cell_type": "code",
   "execution_count": null,
   "metadata": {},
   "outputs": [],
   "source": [
    "from post_processing import *\n",
    "from const import ROOT\n",
    "from const import *"
   ]
  },
  {
   "cell_type": "code",
   "execution_count": null,
   "metadata": {},
   "outputs": [],
   "source": [
    "vert_path = os.path.join(\".\", 'vertical_hammer')\n",
    "vert_file_list = glob.glob(os.path.join(vert_path, '*.png'))\n",
    "vert_path_res = os.path.join(\".\", 'vertical_hammer_res')\n",
    "vert_file_list_res = glob.glob(os.path.join(vert_path_res, '*.png'))\n",
    "masks=[]\n",
    "for cand in vert_file_list+vert_file_list_res: \n",
    "    mask=cand[cand.find(\"/\",2)+1:cand.find(\".png_\",2)]\n",
    "    needs_treatment=cand[cand.find(\".png_\",2)+5:len(cand)-4]\n",
    "    masks.append(mask)\n",
    "hammer=[]\n",
    "hammer_res=[]\n",
    "for cand in vert_file_list: \n",
    "    mask=cand[cand.find(\"/\",2)+1:cand.find(\".png_\",2)]\n",
    "    hammer.append(mask+'.png')\n",
    "for cand in vert_file_list_res: \n",
    "    mask=cand[cand.find(\"/\",2)+1:cand.find(\".png_\",2)]\n",
    "    hammer_res.append(mask+'.png')"
   ]
  },
  {
   "cell_type": "code",
   "execution_count": null,
   "metadata": {},
   "outputs": [],
   "source": [
    "#This is to demonstrate that no test images are flipped\n",
    "\"\"\"\n",
    "flip=[]\n",
    "for cand in vert_file_list: \n",
    "    mask=cand[cand.find(\"/\",2)+1:cand.find(\".png_\",2)]\n",
    "    needs_treatment=cand[cand.find(\".png_\",2)+5:len(cand)-4]\n",
    "    masks.append(mask)\n",
    "    test.append(needs_treatment)\n",
    "    img1 = Image.open(cand).convert('LA') \n",
    "    img2 = Image.open(ROOT+'/test/images/'+needs_treatment+'.png').convert('LA') \n",
    "    arr1= np.array(img1)[:,:,0][101:202,:]\n",
    "    arr2= np.array(img2)[:,:,0]\n",
    "    if not((arr1==arr2).all()):\n",
    "        flip.append(cand)\n",
    "        print(len(cand))\n",
    "\"\"\""
   ]
  },
  {
   "cell_type": "code",
   "execution_count": null,
   "metadata": {},
   "outputs": [],
   "source": [
    "#Cleaned dirty directory\n",
    "\"\"\"\n",
    "dirty_path = os.path.join(\".\", 'vertical_cand')\n",
    "dirty_file_list = glob.glob(os.path.join(dirty_path, '*.png'))\n",
    "for cand in dirty_file_list: \n",
    "    mask=cand[cand.find(\"/\",2)+1:cand.find(\".png_\",2)]\n",
    "    needs_treatment=cand[cand.find(\".png_\",2)+5:len(cand)-4]\n",
    "    if mask in masks:\n",
    "        os.system(\"rm \"+cand)\n",
    "\"\"\""
   ]
  },
  {
   "cell_type": "code",
   "execution_count": null,
   "metadata": {},
   "outputs": [],
   "source": [
    "full=VERT_MASKS()\n",
    "remaining=list(set(full) - set(hammer)-set(hammer_res))"
   ]
  },
  {
   "cell_type": "code",
   "execution_count": null,
   "metadata": {},
   "outputs": [],
   "source": [
    "dirty_path = os.path.join(\".\", 'vertical_cand')\n",
    "dirty_file_list = glob.glob(os.path.join(dirty_path, '*.png'))\n",
    "for cand in dirty_file_list: \n",
    "    mask=cand[cand.find(\"/\",2)+1:cand.find(\".png_\",2)]\n",
    "    needs_treatment=cand[cand.find(\".png_\",2)+5:len(cand)-4]\n",
    "    if not(mask+\".png\" in remaining):\n",
    "        os.system(\"rm \"+cand)\n"
   ]
  },
  {
   "cell_type": "code",
   "execution_count": null,
   "metadata": {},
   "outputs": [],
   "source": []
  }
 ],
 "metadata": {
  "kernelspec": {
   "display_name": "Python 3",
   "language": "python",
   "name": "python3"
  },
  "language_info": {
   "codemirror_mode": {
    "name": "ipython",
    "version": 3
   },
   "file_extension": ".py",
   "mimetype": "text/x-python",
   "name": "python",
   "nbconvert_exporter": "python",
   "pygments_lexer": "ipython3",
   "version": "3.6.5"
  }
 },
 "nbformat": 4,
 "nbformat_minor": 2
}
