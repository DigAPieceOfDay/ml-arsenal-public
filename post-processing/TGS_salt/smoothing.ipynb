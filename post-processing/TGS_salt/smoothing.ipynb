{
 "cells": [
  {
   "cell_type": "code",
   "execution_count": null,
   "metadata": {},
   "outputs": [],
   "source": [
    "from post_processing import *\n",
    "from const import ROOT\n",
    "from const import *"
   ]
  },
  {
   "cell_type": "code",
   "execution_count": null,
   "metadata": {},
   "outputs": [],
   "source": [
    "dicts = pickle.load(open(\"linked_list.p\",\"rb\"))\n",
    "PAD=5"
   ]
  },
  {
   "cell_type": "code",
   "execution_count": null,
   "metadata": {
    "scrolled": true
   },
   "outputs": [],
   "source": [
    "#os.system(\"rm -r smoothing\")\n",
    "#os.system(\"mkdir smooth_vert\")\n",
    "#os.system(\"mkdir smooth_horz\")\n",
    "#os.system(\"rm -r smooth3\")\n",
    "os.system(\"mkdir smooth3\")\n",
    "counter = 0\n",
    "coord_dict = {}\n",
    "thresh = 4100\n",
    "for i in tqdm(dicts):\n",
    "    if i > 150: break\n",
    "    if i not in [2,3,4,8,16,17,21,31,32,44,54,72,82,87,91,111,112,120,121,122,123,124,131,134,136,137,140,141,145,146,147,149]:\n",
    "        idx1=0\n",
    "        idx2=101\n",
    "        idx3=0\n",
    "        idx4=101\n",
    "        jigsaw = dicts[i]\n",
    "        vertical = len(jigsaw)\n",
    "        horizontal = len(jigsaw[0])\n",
    "\n",
    "        img=Image.open('raw/'+str(i)+\".png\").convert('L')\n",
    "        arr= np.array(img)\n",
    "        img2=Image.open('gt_smooth/'+str(i)+\".png\").convert('L')\n",
    "        arr2=np.array(img2)\n",
    "        \n",
    "        while idx4 < 101*vertical: \n",
    "            idx1=0\n",
    "            idx2=101\n",
    "            while idx2 < 101*horizontal:\n",
    "                patch = arr[idx1:idx2,idx3:idx4]\n",
    "                gt = arr2[idx1:idx2,idx3:idx4]/178\n",
    "                if (patch/255).sum()>thresh and gt.sum() > 0.18*101*101:\n",
    "                    coord_dict[counter]=[i,[idx1,idx2,idx3,idx4]]\n",
    "                    im = Image.fromarray(patch)\n",
    "                    im.save(\"smooth3/\"+str(counter)+\".png\")\n",
    "                    counter=counter+1\n",
    "                idx1=min(idx1+PAD,101*horizontal)\n",
    "                idx2=min(idx2+PAD,101*horizontal)\n",
    "\n",
    "            idx4=idx4+101\n",
    "            idx3=idx3+101\n",
    "        \"\"\"   \n",
    "        while idx2 < 101*horizontal: \n",
    "            idx3=0\n",
    "            idx4=101\n",
    "            while idx4 < 101*vertical:\n",
    "                patch = arr[idx1:idx2,idx3:idx4]\n",
    "                gt = arr2[idx1:idx2,idx3:idx4]/178\n",
    "                if (patch/255).sum()>thresh and gt.sum() > 0.3*101*101:\n",
    "                    coord_dict[counter]=[i,[idx1,idx2,idx3,idx4]]\n",
    "                    im = Image.fromarray(patch)\n",
    "                    im.save(\"smooth3/\"+str(counter)+\".png\")\n",
    "                    counter=counter+1\n",
    "                idx3=min(idx3+PAD,101*horizontal)\n",
    "                idx4=min(idx4+PAD,101*horizontal)\n",
    "\n",
    "            idx1=idx2+101\n",
    "            idx2=idx2+101\n",
    "        #break\n",
    "        #arr.shape\n",
    "        \"\"\"\n",
    "\n",
    "\n",
    "            "
   ]
  },
  {
   "cell_type": "code",
   "execution_count": null,
   "metadata": {},
   "outputs": [],
   "source": [
    "print(coord_dict)\n",
    "pickle.dump(coord_dict,open(\"coord_dict.p\",\"wb\"))"
   ]
  },
  {
   "cell_type": "code",
   "execution_count": null,
   "metadata": {},
   "outputs": [],
   "source": [
    "#coord_dict = pickle.load(open(\"coord_dict.p\",\"rb\"))\n",
    "#s2 = pickle.load(open(\"2_smooth_ResNet34_res_25600079500_model.p\",\"rb\"))\n",
    "sigmoids = pickle.load(open(\"avg_smoothed.p\",\"rb\")) \n",
    "#sigmoids = sigmoids/2"
   ]
  },
  {
   "cell_type": "code",
   "execution_count": null,
   "metadata": {},
   "outputs": [],
   "source": [
    "del s0, s1#, s2"
   ]
  },
  {
   "cell_type": "code",
   "execution_count": null,
   "metadata": {},
   "outputs": [],
   "source": [
    "del sigmoids"
   ]
  },
  {
   "cell_type": "code",
   "execution_count": null,
   "metadata": {
    "scrolled": true
   },
   "outputs": [],
   "source": [
    "import cv2\n",
    "images={}\n",
    "v = 0\n",
    "\n",
    "for i in tqdm(dicts):\n",
    "    if i > 150: break\n",
    "    if i not in [2,3,4,8,16,17,21,31,32,44,54,72,82,87,91,111,112,120,121,122,123,124,131,134,136,137,140,141,145,146,147,149]:\n",
    "        \n",
    "        jigsaw = dicts[i]\n",
    "        raw=Image.open('raw/'+str(i)+\".png\").convert('L')\n",
    "        arr= np.array(raw)\n",
    "\n",
    "        image = np.zeros(arr.shape)\n",
    "        avgmask = np.zeros(arr.shape)\n",
    "        horizontal = arr.shape[1]\n",
    "        vertical = arr.shape[0]\n",
    "        \n",
    "        while(coord_dict[v][0]==i):\n",
    "            patch = cv2.resize(sigmoids[v,:,:],(101,101))\n",
    "            #print(patch.mean())\n",
    "            \n",
    "            idx1, idx2, idx3, idx4 = coord_dict[v][1]\n",
    "            \"\"\"\n",
    "            print(image[idx1:idx2,idx3:idx4].shape)\n",
    "            print(v)\n",
    "            print(coord_dict[v])\n",
    "            print(patch.shape)\n",
    "            print(arr.shape)\n",
    "            print(\"------\")\n",
    "            \"\"\"\n",
    "            #if v not in blacklist:\n",
    "            \n",
    "            if image[idx1:idx2,idx3:idx4].shape == patch.shape:\n",
    "                image[idx1:idx2,idx3:idx4] = image[idx1:idx2,idx3:idx4]+patch\n",
    "\n",
    "                avgmask[idx1:idx2,idx3:idx4] = avgmask[idx1:idx2,idx3:idx4]+1\n",
    "            else:\n",
    "                #print((idx2-idx1+1,idx4-idx3+1))\n",
    "                #print(idx1, idx2, idx3, idx4)\n",
    "                image[idx1:idx2,idx3:idx4] = image[idx1:idx2,idx3:idx4]+patch[0:min(idx2,vertical)-idx1,0:min(idx4,horizontal)-idx3]\n",
    "\n",
    "                avgmask[idx1:idx2,idx3:idx4] = avgmask[idx1:idx2,idx3:idx4]+1\n",
    "                \n",
    "            #print(image.shape)\n",
    "            #print(idx1,idx2,idx3,idx4)\n",
    "            #print(patch)\n",
    "            #break\n",
    "            v=v+1\n",
    "        #print(\"before, \",image.mean())\n",
    "        for i1 in range(image.shape[0]):\n",
    "            for i2 in range(image.shape[1]):\n",
    "                image[i1][i2]=image[i1][i2]/max(avgmask[i1][i2],1)\n",
    "        #print(\"after, \",image.mean())\n",
    "        images[i]=image*255\n",
    "        #coord_dict[0]\n",
    "    #break"
   ]
  },
  {
   "cell_type": "code",
   "execution_count": null,
   "metadata": {},
   "outputs": [],
   "source": [
    "pickle.dump(images,open(\"smoothed_sigmiods_pad10.p\",\"wb\"))"
   ]
  },
  {
   "cell_type": "code",
   "execution_count": null,
   "metadata": {},
   "outputs": [],
   "source": [
    "images.keys()"
   ]
  },
  {
   "cell_type": "code",
   "execution_count": null,
   "metadata": {
    "scrolled": true
   },
   "outputs": [],
   "source": [
    "dfne = pd.read_csv(\"256_arith_mean.csv\")\n",
    "ct=0\n",
    "from scipy import ndimage\n",
    "visited=[]\n",
    "for i in tqdm(dicts):\n",
    "    if i > 148: break\n",
    "    if i not in [2,3,4,8,16,17,21,31,32,44,54,72,82,87,91,111,112,120,121,122,123,124,131,134,136,137,140,141,145,146,147,149]:\n",
    "        \n",
    "        jigsaw = dicts[i]\n",
    "        raw=Image.open('raw/'+str(i)+\".png\").convert('L')\n",
    "        arr= np.array(raw)\n",
    "\n",
    "        image = images[i]\n",
    "\n",
    "        horizontal = arr.shape[1]\n",
    "        vertical = arr.shape[0]\n",
    "        \n",
    "        for row in jigsaw:\n",
    "            for col in row:\n",
    "                id1 = jigsaw.index(row)\n",
    "                id2 = row.index(col)\n",
    "                \n",
    "                patch = image[id1*101: (id1+1)*101, id2*101: (id2+1)*101]\n",
    "                msum = (patch/255).sum() \n",
    "                if msum > 0.1*101*101 and id1 >1 and msum < 0.9*101*101:\n",
    "                    if id1 >=2:\n",
    "                        above = image[(id1-1)*101: (id1)*101, id2*101: (id2+1)*101]\n",
    "                    if not(above[100,:].sum()!=0 and patch[0,:].sum()==0):\n",
    "                        mask = ((patch/255)>0.45).astype('uint8')\n",
    "                        #print(mask)\n",
    "                        #mask = ndimage.binary_fill_holes(mask, structure=np.ones((5,5))).astype('uint8')\n",
    "                        dfne.loc[dfne['id'] == col,'rle_mask']=' '.join(map(str, rle_encoding(mask)))  \n",
    "                        ct=ct+1\n",
    "                        visited.append(col)\n",
    "                        #print((id1,id2))\n",
    "                        #print(i)\n",
    "                #else: \n",
    "                #    dfne.loc[dfne['id'] == col,'rle_mask']=' '.join(map(str, \"\"))  \n",
    "                    \n",
    "print(\"replacing {} masks\".format(ct))\n",
    "for i in tqdm(range(len(dfne))):\n",
    "    #print(row[1][\"rle_mask\"] is float)\n",
    "    try:\n",
    "        s=0\n",
    "        if type(dfne.iloc[i][\"rle_mask\"]) is float or dfne.iloc[i][\"rle_mask\"] == '' :\n",
    "            #print(\"s\")\n",
    "            s=s+1\n",
    "        #print(s)\n",
    "        if s>0: \n",
    "            ct=ct+1\n",
    "            #df2.loc[df2['id'] == df.iloc[i]['id'],'rle_mask']=' '.join(map(str, \"\"))\n",
    "        else:\n",
    "            if dfne.iloc[i]['id'] not in visited:\n",
    "                dfne.loc[dfne['id'] == dfne.iloc[i]['id'],'rle_mask']=' '.join(map(str, \"\"))\n",
    "    except ValueError:\n",
    "        a=1                    \n",
    "                \n",
    "        \n",
    "        \n"
   ]
  },
  {
   "cell_type": "code",
   "execution_count": null,
   "metadata": {},
   "outputs": [],
   "source": [
    "dfne.to_csv(\"256_arith_mean_smoothed_only.csv\")"
   ]
  },
  {
   "cell_type": "code",
   "execution_count": null,
   "metadata": {
    "scrolled": true
   },
   "outputs": [],
   "source": [
    "dfne = pd.read_csv(\"256_arith_mean.csv\")\n",
    "ct=0\n",
    "from scipy import ndimage\n",
    "\n",
    "for i in tqdm(dicts):\n",
    "    if i > 148: break\n",
    "    if i not in [2,3,4,8,16,17,21,31,32,44,54,72,82,87,91,111,112,120,121,122,123,124,131,134,136,137,140,141,145,146,147,149]:\n",
    "        \n",
    "        jigsaw = dicts[i]\n",
    "        raw=Image.open('raw/'+str(i)+\".png\").convert('L')\n",
    "        arr= np.array(raw)\n",
    "\n",
    "        image = images[i]\n",
    "\n",
    "        horizontal = arr.shape[1]\n",
    "        vertical = arr.shape[0]\n",
    "        \n",
    "        for row in jigsaw:\n",
    "            for col in row:\n",
    "                id1 = jigsaw.index(row)\n",
    "                id2 = row.index(col)\n",
    "                \n",
    "                patch = image[id1*101: (id1+1)*101, id2*101: (id2+1)*101]\n",
    "                msum = (patch/255).sum() \n",
    "                if msum > 0.1*101*101 and msum < 0.9*101*101:\n",
    "                    if id1 >=2:\n",
    "                        above = image[(id1-1)*101: (id1)*101, id2*101: (id2+1)*101]\n",
    "                    if not(above[100,:].sum()!=0 and patch[0,:].sum()==0):\n",
    "                        mask = ((patch/255)>0.45).astype('uint8')\n",
    "                        #print(mask)\n",
    "                        #mask = ndimage.binary_fill_holes(mask, structure=np.ones((5,5))).astype('uint8')\n",
    "                        dfne.loc[dfne['id'] == col,'rle_mask']=' '.join(map(str, rle_encoding(mask)))  \n",
    "                        ct=ct+1\n",
    "                        #print((id1,id2))\n",
    "                        #print(i)\n",
    "                #else: \n",
    "                #    dfne.loc[dfne['id'] == col,'rle_mask']=' '.join(map(str, \"\"))  \n",
    "                    \n",
    "print(\"replacing {} masks\".format(ct))\n",
    "dfne.to_csv(\"256_arith_mean_smoothed.csv\")\n",
    "                \n",
    "        "
   ]
  },
  {
   "cell_type": "code",
   "execution_count": null,
   "metadata": {},
   "outputs": [],
   "source": [
    "Image.fromarray((images[12]).astype(\"uint8\"))"
   ]
  },
  {
   "cell_type": "code",
   "execution_count": null,
   "metadata": {},
   "outputs": [],
   "source": [
    "df = pd.read_csv(\"0875_baseline.csv\")\n",
    "ct=0\n",
    "for index in tqdm(images.keys()):\n",
    "    image = np.array(images[index])/255\n",
    "    ilist = dicts[index]\n",
    "    height = len(ilist)\n",
    "    width = len(ilist[0])\n",
    "    \n",
    "    for i in range(height):\n",
    "        for j in range(width):\n",
    "            raw=Image.open('raw/'+str(index)+\".png\").convert('L')\n",
    "            arr= np.array(raw)\n",
    "            im = image[i*101: (i+1)*101, j*101: (j+1)*101]\n",
    "            if arr.sum()>4000 and  ilist[i][j] in test_file_list:\n",
    "                new_code = rle_encoding( (im>0.4).astype('uint8') )\n",
    "                old_code = df.loc[df['id'] == ilist[i][j]]['rle_mask'].values\n",
    "                if len(old_code) != 0 and type(old_code[0]) is not float:\n",
    "                    df.loc[df['id'] == ilist[i][j],'rle_mask']=' '.join(map(str, new_code)) \n",
    "                    #print(\"old: \",old_code)\n",
    "                    #print(\"new: \",new_code)\n",
    "                    #print(\"---------------\")\n",
    "                    ct=ct+1\n",
    "            #demo = Image.fromarray((im*255).astype('uint8'))\n",
    "            #demo.show()\n",
    "            #break\n",
    "        #break\n",
    "    #print(len(ilist))\n",
    "    #break\n",
    "print(\"{} replacements\".format(ct))"
   ]
  },
  {
   "cell_type": "code",
   "execution_count": null,
   "metadata": {},
   "outputs": [],
   "source": [
    "df.to_csv(\"0875_baseline_1fold_smoothed.csv\",index=False)"
   ]
  },
  {
   "cell_type": "code",
   "execution_count": null,
   "metadata": {},
   "outputs": [],
   "source": [
    "images.keys()"
   ]
  },
  {
   "cell_type": "code",
   "execution_count": null,
   "metadata": {},
   "outputs": [],
   "source": [
    "bp = (images[23]>0.4*255).astype('uint8')\n",
    "Image.fromarray((bp*255))"
   ]
  },
  {
   "cell_type": "code",
   "execution_count": null,
   "metadata": {
    "scrolled": true
   },
   "outputs": [],
   "source": [
    "id1 =3\n",
    "id2 =2\n",
    "Image.fromarray((bp[ id1*101 : (id1+1)*101, id2*101 : (id2+1)*101]*255))"
   ]
  },
  {
   "cell_type": "code",
   "execution_count": null,
   "metadata": {},
   "outputs": [],
   "source": [
    "images[10]*255"
   ]
  },
  {
   "cell_type": "code",
   "execution_count": null,
   "metadata": {
    "scrolled": true
   },
   "outputs": [],
   "source": [
    "blacklist=[]\n",
    "#sums=[]\n",
    "for j in tqdm(range(32580)):\n",
    "    raw=Image.open('smoothing1/'+str(j)+\".png\").convert('L')\n",
    "    arr= np.array(raw)/255\n",
    "    #sums.append(arr.sum())\n",
    "    if arr.sum()<4000: blacklist.append(j)"
   ]
  },
  {
   "cell_type": "code",
   "execution_count": null,
   "metadata": {},
   "outputs": [],
   "source": [
    "len(blacklist)"
   ]
  },
  {
   "cell_type": "code",
   "execution_count": null,
   "metadata": {},
   "outputs": [],
   "source": [
    "h=np.array(sums)"
   ]
  },
  {
   "cell_type": "code",
   "execution_count": null,
   "metadata": {},
   "outputs": [],
   "source": [
    "h.mean()"
   ]
  },
  {
   "cell_type": "code",
   "execution_count": null,
   "metadata": {},
   "outputs": [],
   "source": [
    "np.array(Image.open(\"gt_smooth/287.png\").convert(\"L\"))"
   ]
  },
  {
   "cell_type": "code",
   "execution_count": null,
   "metadata": {
    "scrolled": true
   },
   "outputs": [],
   "source": [
    "df=pd.read_csv(\"256_arith_mean_0871_leak4++_stage2+++.csv\")\n",
    "\n",
    "\n",
    "def is_vertical(img):\n",
    "    diffs=[]\n",
    "    if img.sum()==0: return False\n",
    "    for i in range(101):\n",
    "        if img[i,:].sum()==0 or img[i,:].mean()==255: return False\n",
    "        diffs.append(np.square(img[0,:]-img[i,:]).mean())\n",
    "    discrepancy=np.mean(np.array(diffs))\n",
    "    #print(discrepancy)\n",
    "    return discrepancy==0\n",
    "\n",
    "def rle_decode(rle_mask,size):\n",
    "    '''\n",
    "    rle_mask: run-length as string formated (start length)\n",
    "    shape: (height,width) of array to return \n",
    "    Returns numpy array, 1 - mask, 0 - background\n",
    "\n",
    "    '''\n",
    "    s = rle_mask.split()\n",
    "    starts, lengths = [np.asarray(x, dtype=int) for x in (s[0:][::2], s[1:][::2])]\n",
    "    starts -= 1\n",
    "    ends = starts + lengths\n",
    "    img = np.zeros(size*size, dtype=np.uint8)\n",
    "    for lo, hi in zip(starts, ends):\n",
    "        img[lo:hi] = 1\n",
    "    return img.reshape(size,size)\n",
    "\n",
    "ct=0\n",
    "from scipy import ndimage\n",
    "\n",
    "masks =[]\n",
    "for i in tqdm(dicts):\n",
    "    per_im=0\n",
    "    if i > 148: break\n",
    "    if i not in [2,3,4,8,16,17,21,31,32,44,54,72,82,87,91,111,112,120,121,122,123,124,131,134,136,137,140,141,145,146,147,149]:\n",
    "        \n",
    "        jigsaw = dicts[i]\n",
    "        raw=Image.open('raw/'+str(i)+\".png\").convert('L')\n",
    "        arr= np.array(raw)\n",
    "\n",
    "        image = images[i]\n",
    "\n",
    "        horizontal = arr.shape[1]\n",
    "        vertical = arr.shape[0]\n",
    "        \n",
    "        for id1 in range(vertical):\n",
    "            for id2 in range(horizontal):\n",
    "                patch = image[id1*101: (id1+1)*101, id2*101: (id2+1)*101]\n",
    "                \n",
    "                msum = (patch/255).sum() \n",
    "                if msum > 0.2*101*101 and msum < 0.9*101*101:\n",
    "\n",
    "                    mask = ((patch/255)>0.45).astype('uint8')\n",
    "\n",
    "                    old_code = df.loc[df['id'] == jigsaw[id1][id2]]['rle_mask'].values\n",
    "\n",
    "                    if not(len(old_code) == 0 or type(old_code[0]) is float): \n",
    "                        old_code = old_code[0]\n",
    "\n",
    "                        old_img = np.transpose(rle_decode(old_code,101))\n",
    "                        #print(old_img.sum()/(101*101))\n",
    "                        if old_img.sum() < 0.95*101*101 and (id1 <= 2 or not(is_vertical(old_img))) and not(is_vertical(np.rot90(mask))):\n",
    "                        #if True:\n",
    "                            #mask = ndimage.binary_fill_holes(mask, structure=np.ones((5,5))).astype('uint8')\n",
    "                            #print(df.loc[df['id'] == jigsaw[id1][id2],'rle_mask'])\n",
    "                            df.loc[df['id'] == jigsaw[id1][id2],'rle_mask']=' '.join(map(str, rle_encoding(mask)))  \n",
    "                            masks.append([mask,i,id1,id2])\n",
    "                            #print(df.loc[df['id'] == jigsaw[id1][id2],'rle_mask'])\n",
    "                            ct=ct+1\n",
    "                            per_im=per_im+1\n",
    "                            #print((id1,id2))\n",
    "                            #print(i)\n",
    "        print(\"============================\")\n",
    "        print(\"Image: {} | {} masks replaced\".format(i,per_im))  \n",
    "        print(\"============================\")\n",
    "       \n",
    "print(\"replacing {} masks\".format(ct))\n",
    "#dfne.to_csv(\"256_arith_mean_smoothed.csv\")"
   ]
  },
  {
   "cell_type": "code",
   "execution_count": null,
   "metadata": {},
   "outputs": [],
   "source": [
    "df.to_csv(\"256_arith_mean_0871_leak4++_stage2+++_smoothed.csv\",index=False)"
   ]
  },
  {
   "cell_type": "code",
   "execution_count": null,
   "metadata": {},
   "outputs": [],
   "source": [
    "Image.fromarray(masks[5][0]*255)"
   ]
  },
  {
   "cell_type": "code",
   "execution_count": null,
   "metadata": {},
   "outputs": [],
   "source": [
    "masks[2][0][0:50,:].sum()"
   ]
  },
  {
   "cell_type": "code",
   "execution_count": null,
   "metadata": {},
   "outputs": [],
   "source": [
    "len(masks)"
   ]
  },
  {
   "cell_type": "code",
   "execution_count": null,
   "metadata": {},
   "outputs": [],
   "source": []
  }
 ],
 "metadata": {
  "kernelspec": {
   "display_name": "Python 3",
   "language": "python",
   "name": "python3"
  },
  "language_info": {
   "codemirror_mode": {
    "name": "ipython",
    "version": 3
   },
   "file_extension": ".py",
   "mimetype": "text/x-python",
   "name": "python",
   "nbconvert_exporter": "python",
   "pygments_lexer": "ipython3",
   "version": "3.6.5"
  }
 },
 "nbformat": 4,
 "nbformat_minor": 2
}
