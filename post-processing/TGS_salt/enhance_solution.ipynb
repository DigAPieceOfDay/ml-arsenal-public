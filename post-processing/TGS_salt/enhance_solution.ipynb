{
 "cells": [
  {
   "cell_type": "code",
   "execution_count": null,
   "metadata": {},
   "outputs": [],
   "source": [
    "!pip3 install tqdm\n",
    "from post_processing import *\n",
    "from const import ROOT\n",
    "from const import *"
   ]
  },
  {
   "cell_type": "markdown",
   "metadata": {},
   "source": [
    "vert_path = os.path.join(\".\", 'vertical_hamming')\n",
    "vert_path1 = os.path.join(\".\", 'vertical_hamming_res')\n",
    "vert_file_list = glob.glob(os.path.join(vert_path, '*.png'))+ glob.glob(os.path.join(vert_path1, '*.png'))\n",
    "df = pd.read_csv(\"0861_34.csv\")\n",
    "df = df.sort_values(by=['id'])\n",
    "df3 = pd.read_csv(\"0861_50.csv\")\n",
    "df3 = df3.sort_values(by=['id'])\n",
    "df4 = pd.read_csv(\"0863.csv\")\n",
    "df4 = df4.sort_values(by=['id'])\n",
    "df2 = pd.read_csv(\"10folds_ne.csv\")\n",
    "len(vert_file_list)"
   ]
  },
  {
   "cell_type": "code",
   "execution_count": null,
   "metadata": {},
   "outputs": [],
   "source": [
    "df58 = pd.read_csv(\"final/optimized_stable_all_sigmoids.csv\")\n",
    "df256 = pd.read_csv(\"256_arith_mean.csv\")\n",
    "df2 = df256.copy()\n",
    "for i in tqdm(range(len(df2))):\n",
    "    df2.loc[df2['id'] == df256.iloc[i]['id'],'rle_mask']=df58['rle_mask'][i]"
   ]
  },
  {
   "cell_type": "code",
   "execution_count": null,
   "metadata": {},
   "outputs": [],
   "source": [
    "df2.to_csv(\"final/ocnet256_resnet256_0450350101.csv\",index=False)"
   ]
  },
  {
   "cell_type": "code",
   "execution_count": null,
   "metadata": {},
   "outputs": [],
   "source": [
    "vert_path = os.path.join(\".\", 'vertical_hamming')\n",
    "vert_path1 = os.path.join(\".\", 'vertical_hamming_res')\n",
    "vert_file_list = glob.glob(os.path.join(vert_path, '*.png'))+ glob.glob(os.path.join(vert_path1, '*.png'))\n",
    "df = pd.read_csv(\"pb_0865.csv\")\n",
    "df = df.sort_values(by=['id'])\n",
    "#df2 = pd.read_csv(\"256_arith_mean.csv\")\n",
    "ct=0\n",
    "for i in tqdm(range(len(df))):\n",
    "    #print(row[1][\"rle_mask\"] is float)\n",
    "    try:\n",
    "        s=0\n",
    "        if not(type(df.iloc[i][\"rle_mask\"]) is float):\n",
    "            #print(\"s\")\n",
    "            s=s+1\n",
    "        #print(s)\n",
    "        if s>0: \n",
    "            ct=ct+1\n",
    "            df2.loc[df2['id'] == df.iloc[i]['id'],'rle_mask']=' '.join(map(str, \"\"))        \n",
    "    except ValueError:\n",
    "        a=1\n",
    "print(\"setting {} masks to empty\".format(ct))\n",
    "\n",
    "ct=0\n",
    "for i in tqdm(range(len(df2))):\n",
    "    #print(row[1][\"rle_mask\"] is float)\n",
    "    try:\n",
    "        s=0\n",
    "        if type(df2.iloc[i][\"rle_mask\"]) is float or df2.iloc[i][\"rle_mask\"] == '' :\n",
    "            #print(\"s\")\n",
    "            s=s+1\n",
    "        #print(s)\n",
    "        if s>0: \n",
    "            ct=ct+1\n",
    "            #df2.loc[df2['id'] == df.iloc[i]['id'],'rle_mask']=' '.join(map(str, \"\"))        \n",
    "    except ValueError:\n",
    "        a=1\n",
    "print(\"{} empty masks in total\".format(ct))\n",
    "\n",
    "\"\"\"\n",
    "100%|██████████| 18000/18000 [00:43<00:00, 410.06it/s]\n",
    "  7%|▋         | 1255/18000 [00:00<00:02, 6269.62it/s]\n",
    "setting 7614 masks to empty\n",
    "100%|██████████| 18000/18000 [00:02<00:00, 6322.42it/s]\n",
    "7619 empty masks in total\n",
    "\"\"\""
   ]
  },
  {
   "cell_type": "code",
   "execution_count": null,
   "metadata": {},
   "outputs": [],
   "source": [
    "vert_path = os.path.join(\".\", 'vertical_hamming')\n",
    "vert_path1 = os.path.join(\".\", 'vertical_hamming_res')\n",
    "vert_file_list = glob.glob(os.path.join(vert_path, '*.png'))+ glob.glob(os.path.join(vert_path1, '*.png'))\n",
    "df = pd.read_csv(\"0871.csv\")\n",
    "df = df.sort_values(by=['id'])\n",
    "#df2 = pd.read_csv(\"256_arith_mean.csv\")\n",
    "ct=0\n",
    "for i in tqdm(range(len(df))):\n",
    "    #print(row[1][\"rle_mask\"] is float)\n",
    "    try:\n",
    "        s=0\n",
    "        if type(df.iloc[i][\"rle_mask\"]) is float:\n",
    "            #print(\"s\")\n",
    "            s=s+1\n",
    "        #print(s)\n",
    "        if s>0: \n",
    "            ct=ct+1\n",
    "            df2.loc[df2['id'] == df.iloc[i]['id'],'rle_mask']=' '.join(map(str, \"\"))        \n",
    "    except ValueError:\n",
    "        a=1\n",
    "print(\"setting {} masks to empty\".format(ct))\n",
    "\n",
    "ct=0\n",
    "for i in tqdm(range(len(df2))):\n",
    "    #print(row[1][\"rle_mask\"] is float)\n",
    "    try:\n",
    "        s=0\n",
    "        if type(df2.iloc[i][\"rle_mask\"]) is float or df2.iloc[i][\"rle_mask\"] == '' :\n",
    "            #print(\"s\")\n",
    "            s=s+1\n",
    "        #print(s)\n",
    "        if s>0: \n",
    "            ct=ct+1\n",
    "            #df2.loc[df2['id'] == df.iloc[i]['id'],'rle_mask']=' '.join(map(str, \"\"))        \n",
    "    except ValueError:\n",
    "        a=1\n",
    "print(\"{} empty masks in total\".format(ct))\n",
    "\n",
    "\"\"\"\n",
    "100%|██████████| 18000/18000 [00:43<00:00, 410.06it/s]\n",
    "  7%|▋         | 1255/18000 [00:00<00:02, 6269.62it/s]\n",
    "setting 7614 masks to empty\n",
    "100%|██████████| 18000/18000 [00:02<00:00, 6322.42it/s]\n",
    "7619 empty masks in total\n",
    "\"\"\""
   ]
  },
  {
   "cell_type": "code",
   "execution_count": null,
   "metadata": {},
   "outputs": [],
   "source": [
    "df2=df2.sort_values(by='id')\n",
    "#df2.to_csv(\"final/test.csv\",index=False)\n",
    "df2.to_csv(\"final/ocnet256_resnet256_0450350101_0865empty.csv\",index=False)"
   ]
  },
  {
   "cell_type": "code",
   "execution_count": null,
   "metadata": {},
   "outputs": [],
   "source": [
    "ct=0\n",
    "#df2.to_csv(\"test.csv\",index=False)\n",
    "df=pd.read_csv(\"final/probe.csv\")\n",
    "#df=pd.read_csv(\"final/optimized_ocnet256_resnet256_0450350101_0871empty_leak4++_stage2+++_stage3++.csv\")\n",
    "for i in tqdm(range(len(df))):\n",
    "    #print(row[1][\"rle_mask\"] is float)\n",
    "    try:\n",
    "        s=0\n",
    "        if type(df.iloc[i][\"rle_mask\"]) is float :\n",
    "            #print(\"s\")\n",
    "            s=s+1\n",
    "        #print(s)\n",
    "        if s>0: \n",
    "            ct=ct+1\n",
    "            #df2.loc[df2['id'] == df.iloc[i]['id'],'rle_mask']=' '.join(map(str, \"\"))        \n",
    "    except ValueError:\n",
    "        a=1\n",
    "print(\"{} empty masks in total\".format(ct))\n",
    "#df.to_csv(\"128_256_bc34_leak4.csv\",index=False)"
   ]
  },
  {
   "cell_type": "code",
   "execution_count": null,
   "metadata": {},
   "outputs": [],
   "source": [
    "ct=0\n",
    "for i in range(len(df)):\n",
    "    #print(row[1][\"rle_mask\"] is float)\n",
    "    try:\n",
    "        s=0\n",
    "        if type(df.iloc[i][\"rle_mask\"]) is float:\n",
    "            #print(\"s\")\n",
    "            s=s+1\n",
    "        if type(df3.iloc[i][\"rle_mask\"]) is float:\n",
    "            s=s+1\n",
    "        if type(df4.iloc[i][\"rle_mask\"]) is float:\n",
    "            s=s+1\n",
    "        #print(s)\n",
    "        if s>1: \n",
    "            ct=ct+1\n",
    "            df2.loc[df2['id'] == df4.iloc[i]['id'],'rle_mask']=' '.join(map(str, \"\"))        \n",
    "    except ValueError:\n",
    "        a=1\n",
    "ct"
   ]
  },
  {
   "cell_type": "code",
   "execution_count": null,
   "metadata": {},
   "outputs": [],
   "source": [
    "type(df.loc[3][\"rle_mask\"]) is float"
   ]
  },
  {
   "cell_type": "code",
   "execution_count": null,
   "metadata": {},
   "outputs": [],
   "source": [
    "df = pd.read_csv(\"0871.csv\")\n",
    "df = df.sort_values(by=['id'])\n",
    "i=0\n",
    "for row in df.iterrows():\n",
    "    #print(row[1][\"rle_mask\"] is float)\n",
    "    try:\n",
    "        if type(row[1][\"rle_mask\"]) is float:\n",
    "            #print(1)\n",
    "            i=i+1\n",
    "            df.loc[df['id'] == row[1]['id'],'rle_mask']=' '.join(map(str, \"1 2\"))\n",
    "        else:\n",
    "            df.loc[df['id'] == row[1]['id'],'rle_mask']=' '.join(map(str, \"\"))\n",
    "    except ValueError:\n",
    "        a=1\n",
    "i"
   ]
  },
  {
   "cell_type": "code",
   "execution_count": null,
   "metadata": {},
   "outputs": [],
   "source": [
    "#df.to_csv(\"binary_prediction_0871.csv\",index=False)\n",
    "df2.to_csv(\"80_stable_models_0871.csv\",index=False)"
   ]
  },
  {
   "cell_type": "code",
   "execution_count": null,
   "metadata": {},
   "outputs": [],
   "source": [
    "ROOT='/Users/alexanderliao/data'\n",
    "df=df2\n",
    "for cand in vert_file_list: \n",
    "    mask=cand[cand.find(\"/\",2)+1:cand.find(\".png_\",2)]\n",
    "    needs_treatment=cand[cand.find(\".png_\",2)+5:len(cand)-4]\n",
    "    img = Image.open(ROOT+'/train/masks/'+mask+'.png').convert('LA') \n",
    "    arr= np.array(img)[:,:,0]/255\n",
    "    new_code=rle_encoding(arr)\n",
    "    #img.show()\n",
    "    df.loc[df['id'] == needs_treatment,'rle_mask']=' '.join(map(str, new_code))\n",
    "df.to_csv(\"ohem_ne_majvote_vert_corrected.csv\",index=False)"
   ]
  },
  {
   "cell_type": "code",
   "execution_count": null,
   "metadata": {},
   "outputs": [],
   "source": [
    "cand[cand.find(\"/\",2)+1:cand.find(\".png_\",2)]\n",
    "cand[cand.find(\".png_\",2)+5:len(cand)-4]"
   ]
  },
  {
   "cell_type": "code",
   "execution_count": null,
   "metadata": {},
   "outputs": [],
   "source": [
    "cand.find(\".png_\",2)"
   ]
  },
  {
   "cell_type": "code",
   "execution_count": null,
   "metadata": {},
   "outputs": [],
   "source": [
    "a=rle_encoding(arr)"
   ]
  },
  {
   "cell_type": "code",
   "execution_count": null,
   "metadata": {},
   "outputs": [],
   "source": [
    "arr.shape"
   ]
  },
  {
   "cell_type": "code",
   "execution_count": null,
   "metadata": {},
   "outputs": [],
   "source": [
    "df.loc[df['id'] == 'b3680c53d9','rle_mask']=' '.join(map(str, a))"
   ]
  },
  {
   "cell_type": "code",
   "execution_count": null,
   "metadata": {},
   "outputs": [],
   "source": [
    "df.to_csv(\"submission_0861_vert_corrected.csv\",index=False)"
   ]
  },
  {
   "cell_type": "code",
   "execution_count": null,
   "metadata": {},
   "outputs": [],
   "source": [
    "' '.join(map(str, a))"
   ]
  },
  {
   "cell_type": "code",
   "execution_count": null,
   "metadata": {},
   "outputs": [],
   "source": [
    "masks=[]\n",
    "for cand in vert_file_list: \n",
    "    masks.append(cand[cand.find(\"/\",2)+1:cand.find(\".png_\",2)]+\".png\")\n",
    "    \n",
    "    "
   ]
  },
  {
   "cell_type": "code",
   "execution_count": null,
   "metadata": {},
   "outputs": [],
   "source": [
    "bad_masks =[\n",
    "'1eaf42beee.png'\n",
    ",'33887a0ae7.png'\n",
    ",'33dfce3a76.png'\n",
    ",'3975043a11.png'\n",
    ",'39cd06da7d.png'\n",
    ",'483b35d589.png'\n",
    ",'49336bb17b.png'\n",
    ",'4ef0559016.png'\n",
    ",'4fbda008c7.png'\n",
    ",'4fdc882e4b.png'\n",
    ",'50d3073821.png'\n",
    ",'53e17edd83.png'\n",
    ",'5b217529e7.png'\n",
    ",'5f98029612.png'\n",
    ",'608567ed23.png'\n",
    ",'62aad7556c.png'\n",
    ",'62d30854d7.png'\n",
    ",'6460ce2df7.png'\n",
    ",'6bc4c91c27.png'\n",
    ",'7845115d01.png'\n",
    ",'7deaf30c4a.png'\n",
    ",'80a458a2b6.png'\n",
    ",'81fa3d59b8.png'\n",
    ",'8367b54eac.png'\n",
    ",'849881c690.png'\n",
    ",'876e6423e6.png'\n",
    ",'90720e8172.png'\n",
    ",'916aff36ae.png'\n",
    ",'919bc0e2ba.png'\n",
    ",'a266a2a9df.png'\n",
    ",'a6625b8937.png'\n",
    ",'a9ee40cf0d.png'\n",
    ",'aeba5383e4.png'\n",
    ",'b63b23fdc9.png'\n",
    ",'baac3469ae.png'\n",
    ",'be7014887d.png'\n",
    ",'be90ab3e56.png'\n",
    ",'bfa7ee102e.png'\n",
    ",'bfbb9b9149.png'\n",
    ",'c387a012fc.png'\n",
    ",'c98dfd50ba.png'\n",
    ",'caccd6708f.png'\n",
    ",'cb4f7abe67.png'\n",
    ",'d0bbe4fd97.png'\n",
    ",'d4d2ed6bd2.png'\n",
    ",'de7202d286.png'\n",
    ",'f0c401b64b.png'\n",
    ",'f19b7d20bb.png'\n",
    ",'f641699848.png'\n",
    ",'f75842e215.png'\n",
    ",'00950d1627.png'\n",
    ",'0280deb8ae.png'\n",
    ",'06d21d76c4.png'\n",
    ",'09152018c4.png'\n",
    ",'09b9330300.png'\n",
    ",'0b45bde756.png'\n",
    ",'130229ec15.png'\n",
    ",'15d76f1672.png'\n",
    ",'182bfc6862.png'\n",
    ",'23afbccfb5.png'\n",
    ",'24522ec665.png'\n",
    ",'285f4b2e82.png'\n",
    ",'2bc179b78c.png'\n",
    ",'2f746f8726.png'\n",
    ",'3cb59a4fdc.png'\n",
    ",'403cb8f4b3.png'\n",
    ",'4f5df40ab2.png'\n",
    ",'50b3aef4c4.png'\n",
    ",'52667992f8.png'\n",
    ",'52ac7bb4c1.png'\n",
    ",'56f4bcc716.png'\n",
    ",'58de316918.png'\n",
    ",'640ceb328a.png'\n",
    ",'71f7425387.png'\n",
    ",'7c0b76979f.png'\n",
    ",'7f0825a2f0.png'\n",
    ",'834861f1b6.png'\n",
    ",'87afd4b1ca.png'\n",
    ",'88a5c49514.png'\n",
    ",'9067effd34.png'\n",
    ",'93a1541218.png'\n",
    ",'95f6e2b2d1.png'\n",
    ",'96216dae3b.png'\n",
    ",'96523f824a.png'\n",
    ",'99ee31b5bc.png'\n",
    ",'9a4b15919d.png'\n",
    ",'9b29ca561d.png'\n",
    ",'9eb4a10b98.png'\n",
    ",'ad2fa649f7.png'\n",
    ",'b1be1fa682.png'\n",
    ",'b24d3673e1.png'\n",
    ",'b35b1b412b.png'\n",
    ",'b525824dfc.png'\n",
    ",'b7b83447c4.png'\n",
    ",'b8a9602e21.png'\n",
    ",'ba1287cb48.png'\n",
    ",'be18a24c49.png'\n",
    ",'c27409a765.png'\n",
    ",'c2973c16f1.png'\n",
    ",'c83d9529bd.png'\n",
    ",'cef03959d8.png'\n",
    ",'d4d34af4f7.png'\n",
    ",'d9a52dc263.png'\n",
    ",'dd6a04d456.png'\n",
    ",'ddcb457a07.png'\n",
    ",'e12cd094a6.png'\n",
    ",'e6e3e58c43.png'\n",
    ",'e73ed6e7f2.png'\n",
    ",'f6e87c1458.png'\n",
    ",'f7380099f6.png'\n",
    ",'fb3392fee0.png'\n",
    ",'fb47e8e74e.png'\n",
    ",'febd1d2a67.png'\n",
    "    ]"
   ]
  },
  {
   "cell_type": "code",
   "execution_count": null,
   "metadata": {},
   "outputs": [],
   "source": [
    "def diff(first, second):\n",
    "        second = set(second)\n",
    "        return [item for item in first if item not in second]\n",
    "rest=diff(bad_masks,masks)"
   ]
  },
  {
   "cell_type": "code",
   "execution_count": null,
   "metadata": {},
   "outputs": [],
   "source": [
    "len(rest)"
   ]
  },
  {
   "cell_type": "code",
   "execution_count": null,
   "metadata": {},
   "outputs": [],
   "source": [
    "rest\n"
   ]
  },
  {
   "cell_type": "code",
   "execution_count": null,
   "metadata": {},
   "outputs": [],
   "source": [
    "import numpy as np\n",
    "np.gradient([1,-1,-2,-3])"
   ]
  },
  {
   "cell_type": "code",
   "execution_count": null,
   "metadata": {},
   "outputs": [],
   "source": [
    "dicts = pickle.load( open( \"linked_list.p\", \"rb\" ) )\n"
   ]
  },
  {
   "cell_type": "code",
   "execution_count": null,
   "metadata": {},
   "outputs": [],
   "source": [
    "list1=dicts[58]"
   ]
  },
  {
   "cell_type": "code",
   "execution_count": null,
   "metadata": {},
   "outputs": [],
   "source": [
    "list1[1][4]"
   ]
  },
  {
   "cell_type": "code",
   "execution_count": null,
   "metadata": {},
   "outputs": [],
   "source": []
  }
 ],
 "metadata": {
  "kernelspec": {
   "display_name": "Python 3",
   "language": "python",
   "name": "python3"
  },
  "language_info": {
   "codemirror_mode": {
    "name": "ipython",
    "version": 3
   },
   "file_extension": ".py",
   "mimetype": "text/x-python",
   "name": "python",
   "nbconvert_exporter": "python",
   "pygments_lexer": "ipython3",
   "version": "3.6.5"
  }
 },
 "nbformat": 4,
 "nbformat_minor": 2
}
