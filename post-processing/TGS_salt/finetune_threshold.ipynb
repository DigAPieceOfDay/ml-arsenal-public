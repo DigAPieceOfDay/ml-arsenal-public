{
 "cells": [
  {
   "cell_type": "code",
   "execution_count": null,
   "metadata": {},
   "outputs": [],
   "source": [
    "import numpy as np\n",
    "import pickle\n",
    "import numpy as np\n",
    "import glob\n",
    "import os\n",
    "import torch\n",
    "from torch import nn\n",
    "from torch.nn import functional as F\n",
    "from torchvision import models\n",
    "import torchvision\n",
    "from torch.utils.data.dataset import Dataset\n",
    "from torch.utils.data import DataLoader\n",
    "from torch.utils.data.sampler import *\n",
    "import torch.nn as nn\n",
    "import torch.nn.functional as F\n",
    "import torch.optim as optim\n",
    "from torch.nn.parallel.data_parallel import data_parallel\n",
    "train_path = os.path.join(\".\", 'train')\n",
    "train_file_list = glob.glob(os.path.join(train_path, 'images', '*.png'))\n",
    "train_file_list = [f.split('/')[-1].split('.')[0] for f in train_file_list]"
   ]
  },
  {
   "cell_type": "code",
   "execution_count": null,
   "metadata": {},
   "outputs": [],
   "source": [
    "def do_kaggle_metric(predict,truth, threshold=0.5):\n",
    "\n",
    "    N = len(predict)\n",
    "    predict = predict.reshape(N,-1)\n",
    "    truth   = truth.reshape(N,-1)\n",
    "\n",
    "    predict = predict>threshold\n",
    "    truth   = truth>0.5\n",
    "    intersection = truth & predict\n",
    "    union        = truth | predict\n",
    "    iou = intersection.sum(1)/(union.sum(1)+EPS)\n",
    "\n",
    "    #-------------------------------------------\n",
    "    result = []\n",
    "    precision = []\n",
    "    is_empty_truth   = (truth.sum(1)==0)\n",
    "    is_empty_predict = (predict.sum(1)==0)\n",
    "\n",
    "    threshold = np.array([0.50, 0.55, 0.60, 0.65, 0.70, 0.75, 0.80, 0.85, 0.90, 0.95])\n",
    "    for t in threshold:\n",
    "        p = iou>=t\n",
    "\n",
    "        tp  = (~is_empty_truth)  & (~is_empty_predict) & (iou> t)\n",
    "        fp  = (~is_empty_truth)  & (~is_empty_predict) & (iou<=t)\n",
    "        fn  = (~is_empty_truth)  & ( is_empty_predict)\n",
    "        fp_empty = ( is_empty_truth)  & (~is_empty_predict)\n",
    "        tn_empty = ( is_empty_truth)  & ( is_empty_predict)\n",
    "\n",
    "        p = (tp + tn_empty) / (tp + tn_empty + fp + fp_empty + fn)\n",
    "\n",
    "        result.append( np.column_stack((tp,fp,fn,tn_empty,fp_empty)) )\n",
    "        precision.append(p)\n",
    "\n",
    "    result = np.array(result).transpose(1,2,0)\n",
    "    precision = np.column_stack(precision)\n",
    "    precision = precision.mean(1)\n",
    "\n",
    "    return precision, result, threshold\n"
   ]
  },
  {
   "cell_type": "code",
   "execution_count": null,
   "metadata": {},
   "outputs": [],
   "source": [
    "from keras.preprocessing.image import ImageDataGenerator, array_to_img, img_to_array, load_img\n",
    "from tqdm import tqdm_notebook\n",
    "truths=[np.array(load_img(\"./train/masks/{}.png\".format(idx), grayscale=True))/255 for idx in tqdm_notebook(train_file_list)]"
   ]
  },
  {
   "cell_type": "code",
   "execution_count": null,
   "metadata": {},
   "outputs": [],
   "source": [
    "preds=[np.array(load_img(\"./0859_train/{}_pred.png\".format(idx), grayscale=True)) / 255 for idx in tqdm_notebook(train_file_list)]"
   ]
  },
  {
   "cell_type": "code",
   "execution_count": null,
   "metadata": {},
   "outputs": [],
   "source": [
    "truths=np.array(truths)\n",
    "preds=np.array(preds)"
   ]
  },
  {
   "cell_type": "code",
   "execution_count": null,
   "metadata": {},
   "outputs": [],
   "source": [
    "EPS=1e-9\n",
    "means=[]\n",
    "stds=[]\n",
    "for i in np.arange(0.42, 0.8, (0.48-0.42)/50):\n",
    "    a=do_kaggle_metric(preds,truths, threshold=i)[0]\n",
    "    means.append(a.mean())\n",
    "    stds.append(a.std())\n",
    "    print(\"Mean: {}, Std {}, Threshold, {}\".format(round(a.mean(),5),round(a.std(),5),round(i,5)))"
   ]
  },
  {
   "cell_type": "code",
   "execution_count": null,
   "metadata": {},
   "outputs": [],
   "source": []
  },
  {
   "cell_type": "code",
   "execution_count": null,
   "metadata": {},
   "outputs": [],
   "source": []
  },
  {
   "cell_type": "code",
   "execution_count": null,
   "metadata": {},
   "outputs": [],
   "source": []
  }
 ],
 "metadata": {
  "kernelspec": {
   "display_name": "Python 3",
   "language": "python",
   "name": "python3"
  },
  "language_info": {
   "codemirror_mode": {
    "name": "ipython",
    "version": 3
   },
   "file_extension": ".py",
   "mimetype": "text/x-python",
   "name": "python",
   "nbconvert_exporter": "python",
   "pygments_lexer": "ipython3",
   "version": "3.6.5"
  }
 },
 "nbformat": 4,
 "nbformat_minor": 2
}
