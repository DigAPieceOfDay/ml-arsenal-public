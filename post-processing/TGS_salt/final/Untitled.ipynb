{
 "cells": [
  {
   "cell_type": "code",
   "execution_count": 1,
   "metadata": {},
   "outputs": [],
   "source": [
    "import pickle\n",
    "import numpy as np\n",
    "import pandas as pd"
   ]
  },
  {
   "cell_type": "code",
   "execution_count": 4,
   "metadata": {},
   "outputs": [],
   "source": [
    "string=\"100models_weighted_sum_all_sigmoids_\"\n",
    "sigmoids = None"
   ]
  },
  {
   "cell_type": "code",
   "execution_count": 9,
   "metadata": {},
   "outputs": [],
   "source": [
    "sigmoids1 = pickle.load(open(string+str(1)+\".p\",\"rb\"))\n",
    "sigmoids2 = pickle.load(open(string+str(2)+\".p\",\"rb\"))\n",
    "sigmoids3 = pickle.load(open(string+str(3)+\".p\",\"rb\"))\n",
    "sigmoids4 = pickle.load(open(string+str(4)+\".p\",\"rb\"))\n",
    "\n",
    "        "
   ]
  },
  {
   "cell_type": "code",
   "execution_count": 10,
   "metadata": {},
   "outputs": [
    {
     "name": "stdout",
     "output_type": "stream",
     "text": [
      "0.43419594\n"
     ]
    }
   ],
   "source": [
    "import os, glob\n",
    "test_path = os.path.join(\"/home/alexanderliao/data/Kaggle/competitions/tgs-salt-identification-challenge\", 'test')\n",
    "#test_path = os.path.join(\"/data/kaggle/salt\", 'test')\n",
    "test_file_list = glob.glob(os.path.join(test_path, 'images', '*.png'))\n",
    "test_file_list = [f.split('/')[-1].split('.')[0] for f in test_file_list]\n",
    "\n",
    "preds = sigmoids1*0.35+sigmoids1*0.1+sigmoids1*0.1+sigmoids1*0.45\n",
    "del sigmoids1, sigmoids2, sigmoids3, sigmoids4\n",
    "print(preds.mean())\n",
    "pickle.dump(preds,open(\"stable_all_sigmoids.p\",\"wb\"))\n",
    "\n",
    "threshold = 0.45\n",
    "binary_prediction = (preds > threshold).astype(int)\n",
    "\n",
    "\n",
    "def rle_encoding(x):\n",
    "    dots = np.where(x.T.flatten() == 1)[0]\n",
    "    run_lengths = []\n",
    "    prev = -2\n",
    "    for b in dots:\n",
    "        if (b > prev+1): run_lengths.extend((b + 1, 0))\n",
    "        run_lengths[-1] += 1\n",
    "        prev = b\n",
    "    return run_lengths\n",
    "\n",
    "all_masks = []\n",
    "for p_mask in list(binary_prediction):\n",
    "    p_mask = rle_encoding(p_mask)\n",
    "    all_masks.append(' '.join(map(str, p_mask)))\n",
    "\n",
    "\n",
    "\n",
    "submit = pd.DataFrame([test_file_list, all_masks]).T\n",
    "submit.columns = ['id', 'rle_mask']\n",
    "submit.to_csv('./100_stable_models_weighted.csv', index = False)"
   ]
  },
  {
   "cell_type": "code",
   "execution_count": null,
   "metadata": {},
   "outputs": [],
   "source": []
  }
 ],
 "metadata": {
  "kernelspec": {
   "display_name": "Python 3",
   "language": "python",
   "name": "python3"
  },
  "language_info": {
   "codemirror_mode": {
    "name": "ipython",
    "version": 3
   },
   "file_extension": ".py",
   "mimetype": "text/x-python",
   "name": "python",
   "nbconvert_exporter": "python",
   "pygments_lexer": "ipython3",
   "version": "3.6.5"
  }
 },
 "nbformat": 4,
 "nbformat_minor": 2
}
