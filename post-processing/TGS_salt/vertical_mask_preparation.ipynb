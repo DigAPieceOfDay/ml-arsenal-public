{
 "cells": [
  {
   "cell_type": "code",
   "execution_count": 1,
   "metadata": {},
   "outputs": [],
   "source": [
    "from post_processing import *\n",
    "from const import ROOT\n",
    "from const import *"
   ]
  },
  {
   "cell_type": "code",
   "execution_count": 22,
   "metadata": {},
   "outputs": [],
   "source": [
    "l=VERT_MASKS()\n",
    "dicts={}"
   ]
  },
  {
   "cell_type": "code",
   "execution_count": 23,
   "metadata": {},
   "outputs": [],
   "source": [
    "for i in range(len(l)):\n",
    "    img = Image.open(ROOT+'/train/images/'+l[i]).convert('LA') \n",
    "    img.save('./vertical/images/'+l[i])\n",
    "    \n",
    "    img = Image.open(ROOT+'/train/masks/'+l[i]).convert('LA') \n",
    "    img.save('./vertical/masks/'+l[i])\n",
    "    \n",
    "    arr= np.array(img)[:,:,0]/255\n",
    "    #print(l[i])\n",
    "    #print(arr[:,100].all())\n",
    "    dicts[l[i]]=[]\n",
    "    if arr[:,100].all():\n",
    "        dicts[l[i]].append(\"right\")\n",
    "    if arr[:,0].all():\n",
    "        dicts[l[i]].append(\"left\")"
   ]
  },
  {
   "cell_type": "code",
   "execution_count": 25,
   "metadata": {},
   "outputs": [],
   "source": [
    "pickle.dump( dicts, open( \"mask_connectivity.p\", \"wb\" ) )"
   ]
  }
 ],
 "metadata": {
  "kernelspec": {
   "display_name": "Python 3",
   "language": "python",
   "name": "python3"
  },
  "language_info": {
   "codemirror_mode": {
    "name": "ipython",
    "version": 3
   },
   "file_extension": ".py",
   "mimetype": "text/x-python",
   "name": "python",
   "nbconvert_exporter": "python",
   "pygments_lexer": "ipython3",
   "version": "3.6.5"
  }
 },
 "nbformat": 4,
 "nbformat_minor": 2
}
