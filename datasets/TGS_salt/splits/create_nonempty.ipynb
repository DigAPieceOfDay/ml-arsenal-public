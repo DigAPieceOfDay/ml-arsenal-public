{
 "cells": [
  {
   "cell_type": "code",
   "execution_count": null,
   "metadata": {},
   "outputs": [],
   "source": [
    "from PIL import Image\n",
    "import numpy as np\n",
    "ROOT='/home/alexanderliao/data/Kaggle/competitions/tgs-salt-identification-challenge/'"
   ]
  },
  {
   "cell_type": "code",
   "execution_count": null,
   "metadata": {},
   "outputs": [],
   "source": [
    "with open('list_train1_3600') as f:\n",
    "    lines = f.read().splitlines()"
   ]
  },
  {
   "cell_type": "code",
   "execution_count": null,
   "metadata": {},
   "outputs": [],
   "source": [
    "image=Image.open(ROOT+'train/masks'+lines[1][lines[1].find(\"/\"):]+'.png').convert('LA')"
   ]
  },
  {
   "cell_type": "code",
   "execution_count": null,
   "metadata": {},
   "outputs": [],
   "source": [
    "I = (np.asarray(image) / 255)[:,:,0]"
   ]
  },
  {
   "cell_type": "code",
   "execution_count": null,
   "metadata": {},
   "outputs": [],
   "source": [
    "I.sum()/(101*101)"
   ]
  },
  {
   "cell_type": "code",
   "execution_count": null,
   "metadata": {},
   "outputs": [],
   "source": [
    "10/(101*101)"
   ]
  },
  {
   "cell_type": "code",
   "execution_count": null,
   "metadata": {},
   "outputs": [],
   "source": [
    "for i in range(10):\n",
    "    g= open('list_valid'+str(i)+'_400_ne',\"w+\")\n",
    "    g.close()\n",
    "    g= open('list_valid'+str(i)+'_400_ne',\"a+\")\n",
    "    with open('list_valid'+str(i)+'_400') as f:\n",
    "        lines = f.read().splitlines()\n",
    "        o=0\n",
    "        for line in lines:\n",
    "            image=Image.open(ROOT+'train/masks'+line[line.find(\"/\"):]+'.png').convert('LA')\n",
    "            I = (np.asarray(image) / 255)[:,:,0]\n",
    "            coverage=I.sum()/(101*101)\n",
    "            if coverage>(5/(101*101)):\n",
    "                g.write(line+'\\n')\n",
    "                o=o+1\n",
    "    print(\"fold {}: {} masks\".format(i,o))"
   ]
  },
  {
   "cell_type": "code",
   "execution_count": null,
   "metadata": {},
   "outputs": [],
   "source": [
    "g= open('list_train_4000_ne',\"w+\")\n",
    "g.close()\n",
    "g= open('list_train_4000_ne',\"a+\")\n",
    "with open('list_train_4000') as f:\n",
    "    lines = f.read().splitlines()\n",
    "    o=0\n",
    "    for line in lines:\n",
    "        image=Image.open(ROOT+'train/masks'+line[line.find(\"/\"):]+'.png').convert('LA')\n",
    "        I = (np.asarray(image) / 255)[:,:,0]\n",
    "        coverage=I.sum()\n",
    "        if coverage>(5):\n",
    "            g.write(line+'\\n')\n",
    "            o=o+1\n",
    "print(\"Total: {} non-empty masks\".format(o))"
   ]
  },
  {
   "cell_type": "code",
   "execution_count": null,
   "metadata": {},
   "outputs": [],
   "source": [
    "coverages=[]\n",
    "nes=[]\n",
    "with open('list_train_4000') as f:\n",
    "    lines = f.read().splitlines()\n",
    "    o=0\n",
    "    for line in lines:\n",
    "        image=Image.open(ROOT+'train/masks'+line[line.find(\"/\"):]+'.png').convert('LA')\n",
    "        I = (np.asarray(image) / 255)[:,:,0]\n",
    "        coverage=I.sum()\n",
    "        if coverage>(5):\n",
    "            coverages.append(coverage)\n",
    "            nes.append(line)\n",
    "            o=o+1"
   ]
  },
  {
   "cell_type": "code",
   "execution_count": null,
   "metadata": {},
   "outputs": [],
   "source": [
    "len(nes)==len(coverages)\n",
    "cov_class=[]\n",
    "for cov in coverages:\n",
    "    percentage = cov/(101*101)\n",
    "    classes = round(percentage)*10\n",
    "    cov_class.append(classes)"
   ]
  },
  {
   "cell_type": "code",
   "execution_count": null,
   "metadata": {},
   "outputs": [],
   "source": [
    "from sklearn.model_selection import StratifiedKFold,KFold\n",
    "skf = StratifiedKFold(n_splits=10,random_state=1221)\n",
    "skf2 = KFold(n_splits=10,random_state=1221)"
   ]
  },
  {
   "cell_type": "code",
   "execution_count": null,
   "metadata": {},
   "outputs": [],
   "source": [
    "i=0\n",
    "for train_index, test_index in skf.split(nes, cov_class):\n",
    "    print(len(train_index))\n",
    "    g= open('list_valid'+str(i)+'_400_ne_balanced_strat',\"w+\")\n",
    "    g.close()\n",
    "    g= open('list_valid'+str(i)+'_400_ne_balanced_strat',\"a+\")\n",
    "    \n",
    "    g1= open('list_train'+str(i)+'_3600_ne_balanced_strat',\"w+\")\n",
    "    g1.close()\n",
    "    g1= open('list_train'+str(i)+'_3600_ne_balanced_strat',\"a+\")\n",
    "    for item in train_index:\n",
    "        g1.write(nes[item]+'\\n')\n",
    "    for item in test_index:\n",
    "        g.write(nes[item]+'\\n')\n",
    "    #print(len(test_index))\n",
    "    #print(test_index)\n",
    "    i=i+1"
   ]
  },
  {
   "cell_type": "code",
   "execution_count": null,
   "metadata": {},
   "outputs": [],
   "source": [
    "from random import randrange\n",
    "cov_class_r=[]\n",
    "for cov in coverages:\n",
    "    cov_class_r.append(randrange(10))"
   ]
  },
  {
   "cell_type": "code",
   "execution_count": null,
   "metadata": {},
   "outputs": [],
   "source": [
    "i=0\n",
    "for train_index, test_index in skf2.split(nes):\n",
    "    ##print(len(train_index))\n",
    "    #print(len(test_index))\n",
    "    g= open('list_valid'+str(i)+'_400_ne_balanced',\"w+\")\n",
    "    g.close()\n",
    "    g= open('list_valid'+str(i)+'_400_ne_balanced',\"a+\")\n",
    "    \n",
    "    g1= open('list_train'+str(i)+'_3600_ne_balanced',\"w+\")\n",
    "    g1.close()\n",
    "    g1= open('list_train'+str(i)+'_3600_ne_balanced',\"a+\")\n",
    "    for item in train_index:\n",
    "        g1= open('list_train'+str(i)+'_3600_ne_balanced',\"a+\")\n",
    "        g1.write(nes[item]+'\\n')\n",
    "        g1.close()\n",
    "    for item in test_index:\n",
    "        g= open('list_valid'+str(i)+'_400_ne_balanced',\"a+\")\n",
    "        g.write(nes[item]+'\\n')\n",
    "        g.close()\n",
    "        if i==9:\n",
    "            print(nes[item])\n",
    "    #print(len(test_index))\n",
    "    print(test_index)\n",
    "    i=i+1"
   ]
  },
  {
   "cell_type": "code",
   "execution_count": null,
   "metadata": {},
   "outputs": [],
   "source": []
  }
 ],
 "metadata": {
  "kernelspec": {
   "display_name": "Python 3",
   "language": "python",
   "name": "python3"
  },
  "language_info": {
   "codemirror_mode": {
    "name": "ipython",
    "version": 3
   },
   "file_extension": ".py",
   "mimetype": "text/x-python",
   "name": "python",
   "nbconvert_exporter": "python",
   "pygments_lexer": "ipython3",
   "version": "3.6.5"
  }
 },
 "nbformat": 4,
 "nbformat_minor": 2
}
