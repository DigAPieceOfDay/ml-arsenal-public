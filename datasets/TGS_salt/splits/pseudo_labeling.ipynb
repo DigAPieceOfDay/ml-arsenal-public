{
 "cells": [
  {
   "cell_type": "code",
   "execution_count": null,
   "metadata": {},
   "outputs": [],
   "source": [
    "import numpy as np\n",
    "ROOT='/home/alexanderliao/data/Kaggle/competitions/tgs-salt-identification-challenge/'\n",
    "from PIL import Image\n",
    "import pandas as pd\n",
    "import pickle\n",
    "from tqdm import tqdm\n",
    "def rle_decode(rle_mask,size):\n",
    "    '''\n",
    "    rle_mask: run-length as string formated (start length)\n",
    "    shape: (height,width) of array to return \n",
    "    Returns numpy array, 1 - mask, 0 - background\n",
    "\n",
    "    '''\n",
    "    s = rle_mask.split()\n",
    "    starts, lengths = [np.asarray(x, dtype=int) for x in (s[0:][::2], s[1:][::2])]\n",
    "    starts -= 1\n",
    "    ends = starts + lengths\n",
    "    img = np.zeros(size*size, dtype=np.uint8)\n",
    "    for lo, hi in zip(starts, ends):\n",
    "        img[lo:hi] = 1\n",
    "    return img.reshape(size,size)\n",
    "\n",
    "\n",
    "def rle_encoding(x):\n",
    "    dots = np.where(x.T.flatten() == 1)[0]\n",
    "    run_lengths = []\n",
    "    prev = -2\n",
    "    for b in dots:\n",
    "        if (b > prev+1): run_lengths.extend((b + 1, 0))\n",
    "        run_lengths[-1] += 1\n",
    "        prev = b\n",
    "    return run_lengths"
   ]
  },
  {
   "cell_type": "code",
   "execution_count": null,
   "metadata": {},
   "outputs": [],
   "source": [
    "df2 = pd.read_csv(\"ocnet_0871_leak4++.csv\")\n",
    "df = pd.read_csv(\"ocnet_pseudo_0871.csv\")\n",
    "sig = pickle.load(open(\"ocnet_pseudo.p\",\"rb\"))"
   ]
  },
  {
   "cell_type": "code",
   "execution_count": null,
   "metadata": {},
   "outputs": [],
   "source": [
    "type(df.loc[df['id']==\"278c81f164\"]['rle_mask'].values[0])"
   ]
  },
  {
   "cell_type": "code",
   "execution_count": null,
   "metadata": {
    "scrolled": true
   },
   "outputs": [],
   "source": [
    "i=0\n",
    "for row in tqdm(df.iterrows()):\n",
    "    id=row[1][0]\n",
    "    #print((row[1][1]).find(\"1\"))\n",
    "    mask=sig[i,:,:]\n",
    "    #print(\"   \"+str(rle_encoding(mask>0.45)))\n",
    "    #print(\"   \"+str(df2.loc[df2['id']==id]['rle_mask']))\n",
    "    mask = mask*255\n",
    "    im=Image.fromarray(mask.astype('uint8'))\n",
    "    im.save('../pseudo_label/ocnet/'+id+'.png')\n",
    "    i=i+1\n",
    "    \"\"\"\n",
    "    mask2=rle_decode(df2.loc[df2['id']==id]['rle_mask'].values[0],101)\n",
    "    mask2 = np.rot90(mask2)\n",
    "    mask2 = np.rot90(mask2)\n",
    "    mask2 = np.rot90(mask2)\n",
    "    mask2 = np.fliplr(mask2)\n",
    "    mask2 = mask2*255\n",
    "    im2=Image.fromarray(mask2)\n",
    "    #im.save('../pseudo_label/')\n",
    "    im.show()\n",
    "    im2.show()\n",
    "    \"\"\"\n",
    "    #break"
   ]
  },
  {
   "cell_type": "code",
   "execution_count": null,
   "metadata": {},
   "outputs": [],
   "source": [
    "with open('list_train0_3600_ne_balanced') as f:\n",
    "    lines = f.read().splitlines()\n",
    "\n",
    "g= open('list_train0_3600_ne_pseudo',\"w+\")\n",
    "g.close()\n",
    "g= open('list_train0_3600_ne_pseudo',\"a+\")"
   ]
  },
  {
   "cell_type": "code",
   "execution_count": null,
   "metadata": {},
   "outputs": [],
   "source": [
    "for line in lines:\n",
    "    g.write(line+'\\n')"
   ]
  },
  {
   "cell_type": "code",
   "execution_count": null,
   "metadata": {},
   "outputs": [],
   "source": [
    "import pickle, os, glob\n",
    "test_list = pickle.load(open(\"test_file_list.p\",\"rb\"))\n",
    "                             \n",
    "test_path = os.path.join(\"/home/alexanderliao/data/GitHub/ml-arsenal/datasets/TGS_salt/pseudo_label/ocnet/\")\n",
    "test_file_list = glob.glob(os.path.join(test_path, '*.png'))\n",
    "test_file_list = [f.split('/')[-1].split('.')[0] for f in test_file_list]"
   ]
  },
  {
   "cell_type": "code",
   "execution_count": null,
   "metadata": {},
   "outputs": [],
   "source": [
    "for line in test_file_list:\n",
    "    g.write('10folds/'+line+'\\n')\n",
    "g.close()"
   ]
  },
  {
   "cell_type": "code",
   "execution_count": null,
   "metadata": {},
   "outputs": [],
   "source": [
    "1"
   ]
  },
  {
   "cell_type": "code",
   "execution_count": null,
   "metadata": {},
   "outputs": [],
   "source": []
  }
 ],
 "metadata": {
  "kernelspec": {
   "display_name": "Python 3",
   "language": "python",
   "name": "python3"
  },
  "language_info": {
   "codemirror_mode": {
    "name": "ipython",
    "version": 3
   },
   "file_extension": ".py",
   "mimetype": "text/x-python",
   "name": "python",
   "nbconvert_exporter": "python",
   "pygments_lexer": "ipython3",
   "version": "3.6.5"
  }
 },
 "nbformat": 4,
 "nbformat_minor": 2
}
