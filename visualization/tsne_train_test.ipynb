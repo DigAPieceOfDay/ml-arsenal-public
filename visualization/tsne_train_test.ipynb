{
 "cells": [
  {
   "cell_type": "code",
   "execution_count": null,
   "metadata": {},
   "outputs": [],
   "source": [
    "ROOT='/home/alexanderliao/data/Kaggle/competitions/tgs-salt-identification-challenge'\n",
    "import pandas as pd\n",
    "from tqdm import tqdm_notebook\n",
    "import numpy as np\n",
    "from keras.preprocessing.image import load_img\n",
    "\n",
    "train_df = pd.read_csv(ROOT+\"/train.csv\", index_col=\"id\", usecols=[0])\n",
    "depths_df = pd.read_csv(ROOT+\"/depths.csv\", index_col=\"id\")\n",
    "train_df = train_df.join(depths_df)\n",
    "test_df = depths_df[~depths_df.index.isin(train_df.index)]\n",
    "train_df[\"images\"] = [np.array(load_img(ROOT+\"/train/images/{}.png\".format(idx), grayscale=True)) / 255 for idx in tqdm_notebook(train_df.index)]\n",
    "#train_df[\"masks\"] = [np.array(load_img(ROOT+\"/train/masks/{}.png\".format(idx), grayscale=True)) / 255 for idx in tqdm_notebook(train_df.index)]\n",
    "\n",
    "train_im=[]\n",
    "for image in train_df[\"images\"]:\n",
    "    train_im.append(image.flatten())\n",
    "train_df.drop([\"images\"])\n",
    "\"\"\"\n",
    "train_msk=[]\n",
    "for image in train_df[\"masks\"]:\n",
    "    train_msk.append(image.flatten())\n",
    "\"\"\"\n",
    "\n",
    "test_df[\"images\"] = [np.array(load_img(ROOT+\"/test/images/{}.png\".format(idx), grayscale=True)) / 255 for idx in tqdm_notebook(test_df.index)]\n"
   ]
  },
  {
   "cell_type": "code",
   "execution_count": null,
   "metadata": {},
   "outputs": [],
   "source": [
    "test_im=[]\n",
    "for image in test_df[\"images\"]:\n",
    "    test_im.append(image.flatten())\n",
    "test_df.drop([\"images\"])"
   ]
  },
  {
   "cell_type": "code",
   "execution_count": null,
   "metadata": {},
   "outputs": [],
   "source": [
    "from sklearn.decomposition import PCA\n",
    "from sklearn.manifold import TSNE\n",
    "\n",
    "pca = PCA(n_components=20)\n",
    "pca_result = pca.fit_transform(train_im)\n",
    "tsne = TSNE(n_components=3, verbose=1, perplexity=100, n_iter=5000)\n",
    "#tsne_results = tsne.fit_transform(pca_result)\n",
    "tsne_results = pca_result"
   ]
  },
  {
   "cell_type": "code",
   "execution_count": null,
   "metadata": {},
   "outputs": [],
   "source": [
    "train_df['tsne-one'] = tsne_results[:,0]\n",
    "train_df['tsne-two'] = tsne_results[:,1] \n",
    "train_df['tsne-three'] = tsne_results[:,2]\n",
    "\n",
    "\"\"\"\n",
    "train_df['pca-one'] = pca_result[:,0]\n",
    "train_df['pca-two'] = pca_result[:,1] \n",
    "train_df['pca-three'] = pca_result[:,2]\n",
    "\"\"\"\n",
    "print('Explained variation per principal component: {}'.format(pca.explained_variance_ratio_))\n",
    "\n",
    "\n",
    "pca = PCA(n_components=50)\n",
    "pca_result = pca.fit_transform(train_msk)\n",
    "\n",
    "train_df['pca-mask-one'] = pca_result[:,0]\n",
    "train_df['pca-mask-two'] = pca_result[:,1] \n",
    "train_df['pca-mask-three'] = pca_result[:,2]\n",
    "\n",
    "print('Explained variation per principal component: {}'.format(pca.explained_variance_ratio_))"
   ]
  },
  {
   "cell_type": "code",
   "execution_count": null,
   "metadata": {},
   "outputs": [],
   "source": [
    "from matplotlib import pyplot\n",
    "from mpl_toolkits.mplot3d import Axes3D\n",
    "import random\n",
    "%matplotlib inline  \n",
    "\n",
    "\n",
    "fig = pyplot.figure()\n",
    "ax = Axes3D(fig)\n",
    "\n",
    "ax.scatter(train_df['tsne-one'],train_df['tsne-two'],train_df['tsne-three'])\n",
    "pyplot.show()"
   ]
  },
  {
   "cell_type": "code",
   "execution_count": null,
   "metadata": {},
   "outputs": [],
   "source": [
    "pca = PCA(n_components=20)\n",
    "pca_result = pca.fit_transform(test_im)\n",
    "tsne = TSNE(n_components=3, verbose=1, perplexity=100, n_iter=5000)\n",
    "#tsne_results = tsne.fit_transform(pca_result)\n",
    "tsne_results = pca_result\n",
    "\n",
    "test_df['tsne-one'] = tsne_results[:,0]\n",
    "test_df['tsne-two'] = tsne_results[:,1] \n",
    "test_df['tsne-three'] = tsne_results[:,2]\n",
    "\n",
    "fig = pyplot.figure()\n",
    "ax = Axes3D(fig)\n",
    "\n",
    "ax.scatter(test_df['tsne-one'],test_df['tsne-two'],test_df['tsne-three'])\n",
    "pyplot.show()"
   ]
  },
  {
   "cell_type": "code",
   "execution_count": null,
   "metadata": {},
   "outputs": [],
   "source": []
  }
 ],
 "metadata": {
  "kernelspec": {
   "display_name": "Python 3",
   "language": "python",
   "name": "python3"
  },
  "language_info": {
   "codemirror_mode": {
    "name": "ipython",
    "version": 3
   },
   "file_extension": ".py",
   "mimetype": "text/x-python",
   "name": "python",
   "nbconvert_exporter": "python",
   "pygments_lexer": "ipython3",
   "version": "3.6.5"
  }
 },
 "nbformat": 4,
 "nbformat_minor": 2
}
